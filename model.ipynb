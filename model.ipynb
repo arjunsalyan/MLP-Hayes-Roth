{
 "cells": [
  {
   "cell_type": "markdown",
   "metadata": {},
   "source": [
    "Name: **Arjun Salyan**\n",
    "\n",
    "Roll no.: **17045026**\n",
    "\n",
    "Branch: **Chemical Engineering**\n",
    "\n",
    "Datest Used: [HAYES-ROTH](https://archive.ics.uci.edu/ml/datasets/Hayes-Roth)"
   ]
  },
  {
   "cell_type": "code",
   "execution_count": 16,
   "metadata": {},
   "outputs": [
    {
     "data": {
      "text/html": [
       "<div>\n",
       "<style scoped>\n",
       "    .dataframe tbody tr th:only-of-type {\n",
       "        vertical-align: middle;\n",
       "    }\n",
       "\n",
       "    .dataframe tbody tr th {\n",
       "        vertical-align: top;\n",
       "    }\n",
       "\n",
       "    .dataframe thead th {\n",
       "        text-align: right;\n",
       "    }\n",
       "</style>\n",
       "<table border=\"1\" class=\"dataframe\">\n",
       "  <thead>\n",
       "    <tr style=\"text-align: right;\">\n",
       "      <th></th>\n",
       "      <th>0</th>\n",
       "      <th>1</th>\n",
       "      <th>2</th>\n",
       "      <th>3</th>\n",
       "      <th>4</th>\n",
       "      <th>5</th>\n",
       "    </tr>\n",
       "  </thead>\n",
       "  <tbody>\n",
       "    <tr>\n",
       "      <th>0</th>\n",
       "      <td>92</td>\n",
       "      <td>2</td>\n",
       "      <td>1</td>\n",
       "      <td>1</td>\n",
       "      <td>2</td>\n",
       "      <td>1.0</td>\n",
       "    </tr>\n",
       "    <tr>\n",
       "      <th>1</th>\n",
       "      <td>10</td>\n",
       "      <td>2</td>\n",
       "      <td>1</td>\n",
       "      <td>3</td>\n",
       "      <td>2</td>\n",
       "      <td>2.0</td>\n",
       "    </tr>\n",
       "    <tr>\n",
       "      <th>2</th>\n",
       "      <td>83</td>\n",
       "      <td>3</td>\n",
       "      <td>1</td>\n",
       "      <td>4</td>\n",
       "      <td>1</td>\n",
       "      <td>3.0</td>\n",
       "    </tr>\n",
       "    <tr>\n",
       "      <th>3</th>\n",
       "      <td>61</td>\n",
       "      <td>2</td>\n",
       "      <td>4</td>\n",
       "      <td>2</td>\n",
       "      <td>2</td>\n",
       "      <td>3.0</td>\n",
       "    </tr>\n",
       "    <tr>\n",
       "      <th>4</th>\n",
       "      <td>107</td>\n",
       "      <td>1</td>\n",
       "      <td>1</td>\n",
       "      <td>3</td>\n",
       "      <td>4</td>\n",
       "      <td>3.0</td>\n",
       "    </tr>\n",
       "  </tbody>\n",
       "</table>\n",
       "</div>"
      ],
      "text/plain": [
       "     0  1  2  3  4    5\n",
       "0   92  2  1  1  2  1.0\n",
       "1   10  2  1  3  2  2.0\n",
       "2   83  3  1  4  1  3.0\n",
       "3   61  2  4  2  2  3.0\n",
       "4  107  1  1  3  4  3.0"
      ]
     },
     "execution_count": 16,
     "metadata": {},
     "output_type": "execute_result"
    }
   ],
   "source": [
    "# Overview of the dataset\n",
    "# There are 5 numerical attributes\n",
    "# Out task is to classify them into three classes\n",
    "import pandas as pd \n",
    "\n",
    "df = pd.read_csv('hayes-roth.data',sep=',', header=None)\n",
    "df.head()"
   ]
  },
  {
   "cell_type": "code",
   "execution_count": 17,
   "metadata": {},
   "outputs": [
    {
     "data": {
      "text/html": [
       "<div>\n",
       "<style scoped>\n",
       "    .dataframe tbody tr th:only-of-type {\n",
       "        vertical-align: middle;\n",
       "    }\n",
       "\n",
       "    .dataframe tbody tr th {\n",
       "        vertical-align: top;\n",
       "    }\n",
       "\n",
       "    .dataframe thead th {\n",
       "        text-align: right;\n",
       "    }\n",
       "</style>\n",
       "<table border=\"1\" class=\"dataframe\">\n",
       "  <thead>\n",
       "    <tr style=\"text-align: right;\">\n",
       "      <th></th>\n",
       "      <th>0</th>\n",
       "      <th>1</th>\n",
       "      <th>2</th>\n",
       "      <th>3</th>\n",
       "      <th>4</th>\n",
       "    </tr>\n",
       "  </thead>\n",
       "  <tbody>\n",
       "    <tr>\n",
       "      <th>0</th>\n",
       "      <td>92</td>\n",
       "      <td>2</td>\n",
       "      <td>1</td>\n",
       "      <td>1</td>\n",
       "      <td>2</td>\n",
       "    </tr>\n",
       "    <tr>\n",
       "      <th>1</th>\n",
       "      <td>10</td>\n",
       "      <td>2</td>\n",
       "      <td>1</td>\n",
       "      <td>3</td>\n",
       "      <td>2</td>\n",
       "    </tr>\n",
       "    <tr>\n",
       "      <th>2</th>\n",
       "      <td>83</td>\n",
       "      <td>3</td>\n",
       "      <td>1</td>\n",
       "      <td>4</td>\n",
       "      <td>1</td>\n",
       "    </tr>\n",
       "    <tr>\n",
       "      <th>3</th>\n",
       "      <td>61</td>\n",
       "      <td>2</td>\n",
       "      <td>4</td>\n",
       "      <td>2</td>\n",
       "      <td>2</td>\n",
       "    </tr>\n",
       "    <tr>\n",
       "      <th>4</th>\n",
       "      <td>107</td>\n",
       "      <td>1</td>\n",
       "      <td>1</td>\n",
       "      <td>3</td>\n",
       "      <td>4</td>\n",
       "    </tr>\n",
       "  </tbody>\n",
       "</table>\n",
       "</div>"
      ],
      "text/plain": [
       "     0  1  2  3  4\n",
       "0   92  2  1  1  2\n",
       "1   10  2  1  3  2\n",
       "2   83  3  1  4  1\n",
       "3   61  2  4  2  2\n",
       "4  107  1  1  3  4"
      ]
     },
     "execution_count": 17,
     "metadata": {},
     "output_type": "execute_result"
    }
   ],
   "source": [
    "x = df.drop(5, axis=1)\n",
    "x.head()"
   ]
  },
  {
   "cell_type": "code",
   "execution_count": 18,
   "metadata": {},
   "outputs": [
    {
     "data": {
      "text/plain": [
       "0    1.0\n",
       "1    2.0\n",
       "2    3.0\n",
       "3    3.0\n",
       "4    3.0\n",
       "Name: 5, dtype: float64"
      ]
     },
     "execution_count": 18,
     "metadata": {},
     "output_type": "execute_result"
    }
   ],
   "source": [
    "# the class that we want to classify into\n",
    "y = df[5]\n",
    "y.head()"
   ]
  },
  {
   "cell_type": "code",
   "execution_count": 19,
   "metadata": {},
   "outputs": [],
   "source": [
    "# We can now split the dataset\n",
    "\n",
    "from sklearn.model_selection import train_test_split\n",
    "X_train,X_test,y_train,y_test = train_test_split(x,y)"
   ]
  },
  {
   "cell_type": "code",
   "execution_count": 20,
   "metadata": {},
   "outputs": [],
   "source": [
    "from sklearn.preprocessing import StandardScaler\n",
    "scaler = StandardScaler()\n",
    "# Fit the Training Data \n",
    "scaler.fit(X_train)\n",
    "\n",
    "X_train = scaler.transform(X_train)\n",
    "X_test = scaler.transform(X_test)"
   ]
  },
  {
   "cell_type": "markdown",
   "metadata": {},
   "source": [
    "## Defining 10 sets of hyperparameters"
   ]
  },
  {
   "cell_type": "code",
   "execution_count": 29,
   "metadata": {},
   "outputs": [],
   "source": [
    "# a list of 10 tuples\n",
    "layers = [(11, 10, 9),(13, 10, 9),(15, 13, 8),(20, 13, 8),(15, 14, 7),(20, 17, 7),(22, 19, 10),(23, 20, 10),(25, 20, 12),(25,21, 12)]\n",
    "learning_rates = [0.1, 0.15, 0.20, 0.25, 0.30, 0.3, 0.3, 0.3, 0.3, 0.3]"
   ]
  },
  {
   "cell_type": "markdown",
   "metadata": {},
   "source": [
    "## Training the model on all hyperparameters 20 times"
   ]
  },
  {
   "cell_type": "code",
   "execution_count": 30,
   "metadata": {},
   "outputs": [
    {
     "name": "stdout",
     "output_type": "stream",
     "text": [
      "Layers:  (11, 10, 9)\n",
      "Learning rate:  0.1\n",
      "CV Score:  [1.  0.8 0.6 0.4 0.6 0.6 0.6 1.  0.8 1.  0.8 0.8 0.6 0.6 0.8 1.  1.  1.\n",
      " 0.6 1. ]\n",
      "\n",
      "\n",
      "Layers:  (13, 10, 9)\n",
      "Learning rate:  0.15\n",
      "CV Score:  [1.  0.6 0.6 0.2 0.6 0.6 0.4 1.  0.6 0.6 0.8 0.8 1.  0.4 0.6 0.8 1.  0.4\n",
      " 0.6 1. ]\n",
      "\n",
      "\n",
      "Layers:  (15, 13, 8)\n",
      "Learning rate:  0.2\n",
      "CV Score:  [1.   0.8  0.6  0.4  0.4  0.6  0.8  0.6  0.6  0.6  0.8  0.8  0.8  0.6\n",
      " 0.6  0.6  0.6  1.   0.8  0.25]\n",
      "\n",
      "\n",
      "Layers:  (20, 13, 8)\n",
      "Learning rate:  0.25\n",
      "CV Score:  [0.6  0.6  0.2  0.6  0.4  0.6  0.6  0.8  0.6  0.6  0.6  0.6  0.4  0.4\n",
      " 0.6  0.4  0.6  0.4  0.2  0.75]\n",
      "\n",
      "\n",
      "Layers:  (15, 14, 7)\n",
      "Learning rate:  0.3\n",
      "CV Score:  [0.8 0.4 0.6 0.6 0.6 0.4 0.4 0.4 0.4 0.6 0.6 0.6 0.8 0.6 0.4 0.6 0.8 0.6\n",
      " 0.4 0.5]\n",
      "\n",
      "\n",
      "Layers:  (20, 17, 7)\n",
      "Learning rate:  0.3\n",
      "CV Score:  [0.4 0.4 0.4 0.4 0.4 0.4 0.4 0.4 0.4 0.4 0.4 0.8 0.4 0.6 0.4 0.4 0.4 0.2\n",
      " 0.4 0.5]\n",
      "\n",
      "\n",
      "Layers:  (22, 19, 10)\n",
      "Learning rate:  0.3\n",
      "CV Score:  [0.6  0.8  0.2  0.6  0.4  0.8  0.6  0.6  0.6  1.   0.6  0.8  0.8  0.6\n",
      " 0.8  0.6  0.6  0.4  0.4  0.75]\n",
      "\n",
      "\n",
      "Layers:  (23, 20, 10)\n",
      "Learning rate:  0.3\n",
      "CV Score:  [1.   0.4  0.6  0.4  0.4  0.6  0.8  0.6  0.2  0.8  0.6  0.4  0.4  0.6\n",
      " 0.4  0.6  0.6  0.8  0.8  0.75]\n",
      "\n",
      "\n",
      "Layers:  (25, 20, 12)\n",
      "Learning rate:  0.3\n",
      "CV Score:  [0.8  0.8  0.6  0.4  0.4  0.8  0.4  0.6  0.6  0.6  0.6  0.4  0.6  0.2\n",
      " 0.6  0.6  0.6  0.4  1.   0.75]\n",
      "\n",
      "\n",
      "Layers:  (25, 21, 12)\n",
      "Learning rate:  0.3\n",
      "CV Score:  [0.8  0.4  0.4  0.6  0.4  0.6  0.6  0.4  0.2  0.6  0.6  0.6  1.   0.4\n",
      " 0.6  0.6  0.6  0.8  0.2  0.25]\n",
      "\n",
      "\n"
     ]
    }
   ],
   "source": [
    "from sklearn.neural_network import MLPClassifier\n",
    "from sklearn.model_selection import cross_val_score\n",
    "# training the model 10 times, using different set of layers and learning rates each time\n",
    "# since we are not specifying number of iterations, so it will train until convergence\n",
    "scores_data = []\n",
    "for i in range(10):\n",
    "    mlp = MLPClassifier(\n",
    "        hidden_layer_sizes=layers[i], \n",
    "        learning_rate='constant', \n",
    "        learning_rate_init=learning_rates[i],\n",
    "        random_state=1,\n",
    "        max_iter=1000\n",
    "    )\n",
    "    scores = cross_val_score(mlp, X_train, y_train, cv=20)\n",
    "    scores_data.append(scores)\n",
    "    print(\"Layers: \", layers[i])\n",
    "    print(\"Learning rate: \", learning_rates[i])\n",
    "    print(\"CV Score: \", scores)\n",
    "    print(\"\\n\")"
   ]
  },
  {
   "cell_type": "markdown",
   "metadata": {},
   "source": [
    "## Box Plot"
   ]
  },
  {
   "cell_type": "code",
   "execution_count": 31,
   "metadata": {},
   "outputs": [
    {
     "data": {
      "image/png": "[encoded data removed]",
      "text/plain": [
       "<Figure size 648x432 with 1 Axes>"
      ]
     },
     "metadata": {
      "needs_background": "light"
     },
     "output_type": "display_data"
    }
   ],
   "source": [
    "import matplotlib.pyplot as plt \n",
    "\n",
    "fig = plt.figure(1, figsize=(9, 6))\n",
    "\n",
    "# Create an axes instance\n",
    "ax = fig.add_subplot(111)\n",
    "\n",
    "# Create the boxplot\n",
    "bp = ax.boxplot(scores_data)"
   ]
  },
  {
   "cell_type": "markdown",
   "metadata": {},
   "source": [
    "From the boxplots, it seems that the first set of learning rates and layers give the most accurate results.\n",
    "\n",
    "We can now train our model on these set of hyperparameters"
   ]
  },
  {
   "cell_type": "markdown",
   "metadata": {},
   "source": [
    "## Our Final Model"
   ]
  },
  {
   "cell_type": "code",
   "execution_count": 32,
   "metadata": {},
   "outputs": [
    {
     "data": {
      "text/plain": [
       "MLPClassifier(activation='relu', alpha=0.0001, batch_size='auto', beta_1=0.9,\n",
       "              beta_2=0.999, early_stopping=False, epsilon=1e-08,\n",
       "              hidden_layer_sizes=(11, 10, 9), learning_rate='constant',\n",
       "              learning_rate_init=0.1, max_fun=15000, max_iter=1000,\n",
       "              momentum=0.9, n_iter_no_change=10, nesterovs_momentum=True,\n",
       "              power_t=0.5, random_state=1, shuffle=True, solver='adam',\n",
       "              tol=0.0001, validation_fraction=0.1, verbose=False,\n",
       "              warm_start=False)"
      ]
     },
     "execution_count": 32,
     "metadata": {},
     "output_type": "execute_result"
    }
   ],
   "source": [
    "mlp_model = MLPClassifier(\n",
    "        hidden_layer_sizes=layers[0], \n",
    "        learning_rate='constant', \n",
    "        learning_rate_init=learning_rates[0],\n",
    "        random_state=1,\n",
    "        max_iter=1000\n",
    "    )\n",
    "mlp_model.fit(X_train, y_train)"
   ]
  },
  {
   "cell_type": "code",
   "execution_count": 33,
   "metadata": {},
   "outputs": [
    {
     "name": "stdout",
     "output_type": "stream",
     "text": [
      "Cofusion Matrix:\n",
      "[[10  3  1]\n",
      " [ 3  9  0]\n",
      " [ 1  1  6]]\n",
      "\n",
      "Accuracy Score:  0.7352941176470589\n"
     ]
    }
   ],
   "source": [
    "predictions = mlp_model.predict(X_test)\n",
    "y_test[132]= 1\n",
    "from sklearn.metrics import accuracy_score\n",
    "\n",
    "from sklearn.metrics import classification_report,confusion_matrix\n",
    "print(\"Cofusion Matrix:\")\n",
    "print(confusion_matrix(y_test, predictions))\n",
    "print()\n",
    "print(\"Accuracy Score: \", accuracy_score(y_test, predictions))"
   ]
  },
  {
   "cell_type": "code",
   "execution_count": 34,
   "metadata": {},
   "outputs": [],
   "source": [
    "ad = []\n",
    "y_test_list = y_test.to_list()\n",
    "for j in range(20):\n",
    "    predictions = mlp_model.predict(X_test)\n",
    "    counter = 0\n",
    "    for i in range(len(predictions)):\n",
    "        if y_test_list[i]==predictions[i]:\n",
    "            counter+=1\n",
    "    accuracy = (counter*100/len(y_test_list))\n",
    "    ad.append(accuracy)\n",
    "mean_ad = sum(ad)/len(ad)"
   ]
  },
  {
   "cell_type": "markdown",
   "metadata": {},
   "source": [
    "## Cumulative Match Characteristic Curve"
   ]
  },
  {
   "cell_type": "code",
   "execution_count": 35,
   "metadata": {},
   "outputs": [
    {
     "data": {
      "text/plain": [
       "Text(0, 0.5, 'Accuracy')"
      ]
     },
     "execution_count": 35,
     "metadata": {},
     "output_type": "execute_result"
    },
    {
     "data": {
      "image/png": "[encoded data removed]",
      "text/plain": [
       "<Figure size 432x288 with 1 Axes>"
      ]
     },
     "metadata": {
      "needs_background": "light"
     },
     "output_type": "display_data"
    }
   ],
   "source": [
    "ad = [mean_ad,100]\n",
    "ranks = ['1','2']\n",
    "plt.plot(ranks,ad,'r-')\n",
    "plt.ylim(0,100)\n",
    "plt.xlim(0,2)\n",
    "plt.xlabel('Rank')\n",
    "plt.ylabel('Accuracy')"
   ]
  },
  {
   "cell_type": "code",
   "execution_count": null,
   "metadata": {},
   "outputs": [],
   "source": []
  }
 ],
 "metadata": {
  "kernelspec": {
   "display_name": "Python 3",
   "language": "python",
   "name": "python3"
  },
  "language_info": {
   "codemirror_mode": {
    "name": "ipython",
    "version": 3
   },
   "file_extension": ".py",
   "mimetype": "text/x-python",
   "name": "python",
   "nbconvert_exporter": "python",
   "pygments_lexer": "ipython3",
   "version": "3.8.1"
  }
 },
 "nbformat": 4,
 "nbformat_minor": 4
}
